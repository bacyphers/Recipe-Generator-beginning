{
 "cells": [
  {
   "cell_type": "code",
   "execution_count": 3,
   "id": "181c27bc",
   "metadata": {},
   "outputs": [
    {
     "data": {
      "text/html": [
       "<div>\n",
       "<style scoped>\n",
       "    .dataframe tbody tr th:only-of-type {\n",
       "        vertical-align: middle;\n",
       "    }\n",
       "\n",
       "    .dataframe tbody tr th {\n",
       "        vertical-align: top;\n",
       "    }\n",
       "\n",
       "    .dataframe thead th {\n",
       "        text-align: right;\n",
       "    }\n",
       "</style>\n",
       "<table border=\"1\" class=\"dataframe\">\n",
       "  <thead>\n",
       "    <tr style=\"text-align: right;\">\n",
       "      <th></th>\n",
       "      <th>RecipeIngredientParts</th>\n",
       "    </tr>\n",
       "    <tr>\n",
       "      <th>RecipeId</th>\n",
       "      <th></th>\n",
       "    </tr>\n",
       "  </thead>\n",
       "  <tbody>\n",
       "    <tr>\n",
       "      <th>44.0</th>\n",
       "      <td>['chicken' 'butter' 'flour' 'milk' 'celery' 'b...</td>\n",
       "    </tr>\n",
       "    <tr>\n",
       "      <th>71.0</th>\n",
       "      <td>['chicken' 'carrot' 'celery' 'onion' 'chicken ...</td>\n",
       "    </tr>\n",
       "    <tr>\n",
       "      <th>112.0</th>\n",
       "      <td>['butter' 'flour' 'milk' 'chicken broth' 'eggs...</td>\n",
       "    </tr>\n",
       "    <tr>\n",
       "      <th>150.0</th>\n",
       "      <td>['chicken' 'lemon pepper' 'salt' 'bell pepper'...</td>\n",
       "    </tr>\n",
       "    <tr>\n",
       "      <th>162.0</th>\n",
       "      <td>['onion' 'green pepper' 'skim milk' 'fresh mus...</td>\n",
       "    </tr>\n",
       "    <tr>\n",
       "      <th>...</th>\n",
       "      <td>...</td>\n",
       "    </tr>\n",
       "    <tr>\n",
       "      <th>540829.0</th>\n",
       "      <td>['canned tomatoes' 'canned tomato sauce' 'chic...</td>\n",
       "    </tr>\n",
       "    <tr>\n",
       "      <th>540945.0</th>\n",
       "      <td>['chicken' 'soy sauce' 'brandy' 'cornflour' 's...</td>\n",
       "    </tr>\n",
       "    <tr>\n",
       "      <th>541168.0</th>\n",
       "      <td>['salsa' 'chicken' 'flour' 'chili powder' 'ore...</td>\n",
       "    </tr>\n",
       "    <tr>\n",
       "      <th>541329.0</th>\n",
       "      <td>['chicken' 'chicken broth' 'water' 'red curry ...</td>\n",
       "    </tr>\n",
       "    <tr>\n",
       "      <th>541354.0</th>\n",
       "      <td>['potatoes' 'milk' 'poultry seasoning' 'butter...</td>\n",
       "    </tr>\n",
       "  </tbody>\n",
       "</table>\n",
       "<p>5417 rows × 1 columns</p>\n",
       "</div>"
      ],
      "text/plain": [
       "                                      RecipeIngredientParts\n",
       "RecipeId                                                   \n",
       "44.0      ['chicken' 'butter' 'flour' 'milk' 'celery' 'b...\n",
       "71.0      ['chicken' 'carrot' 'celery' 'onion' 'chicken ...\n",
       "112.0     ['butter' 'flour' 'milk' 'chicken broth' 'eggs...\n",
       "150.0     ['chicken' 'lemon pepper' 'salt' 'bell pepper'...\n",
       "162.0     ['onion' 'green pepper' 'skim milk' 'fresh mus...\n",
       "...                                                     ...\n",
       "540829.0  ['canned tomatoes' 'canned tomato sauce' 'chic...\n",
       "540945.0  ['chicken' 'soy sauce' 'brandy' 'cornflour' 's...\n",
       "541168.0  ['salsa' 'chicken' 'flour' 'chili powder' 'ore...\n",
       "541329.0  ['chicken' 'chicken broth' 'water' 'red curry ...\n",
       "541354.0  ['potatoes' 'milk' 'poultry seasoning' 'butter...\n",
       "\n",
       "[5417 rows x 1 columns]"
      ]
     },
     "execution_count": 3,
     "metadata": {},
     "output_type": "execute_result"
    }
   ],
   "source": [
    "import pandas as pd\n",
    "import ast \n",
    "ingredient_list=pd.read_csv('/Users/brockberenato/Desktop/capstone - individual overview/ingredients.csv', index_col='RecipeId')\n",
    "ingredient_list"
   ]
  },
  {
   "cell_type": "code",
   "execution_count": 15,
   "id": "ce2c51cc",
   "metadata": {},
   "outputs": [],
   "source": [
    "# type(ingredient_list.RecipeIngredientParts.iloc[0].split(','))\n",
    "# ingredient_list.RecipeIngredientParts.iloc[0][2:-2].replace('\"', '').split(\"' '\")\n",
    "\n",
    "ingredients=pd.DataFrame()\n",
    "def create_list (row):\n",
    "    return row['RecipeIngredientParts'][2:-2].replace('\"', '').replace('\\n','').split(\"' '\")\n",
    "ingredients ['new_ingredients']= ingredient_list.apply(create_list, axis=1).explode()  \n"
   ]
  },
  {
   "cell_type": "code",
   "execution_count": 16,
   "id": "61a5504c",
   "metadata": {},
   "outputs": [],
   "source": [
    "ingredients.reset_index(inplace=True)"
   ]
  },
  {
   "cell_type": "code",
   "execution_count": 17,
   "id": "2a1d6a33",
   "metadata": {},
   "outputs": [
    {
     "data": {
      "text/html": [
       "<div>\n",
       "<style scoped>\n",
       "    .dataframe tbody tr th:only-of-type {\n",
       "        vertical-align: middle;\n",
       "    }\n",
       "\n",
       "    .dataframe tbody tr th {\n",
       "        vertical-align: top;\n",
       "    }\n",
       "\n",
       "    .dataframe thead th {\n",
       "        text-align: right;\n",
       "    }\n",
       "</style>\n",
       "<table border=\"1\" class=\"dataframe\">\n",
       "  <thead>\n",
       "    <tr style=\"text-align: right;\">\n",
       "      <th></th>\n",
       "      <th>RecipeId</th>\n",
       "      <th>new_ingredients</th>\n",
       "    </tr>\n",
       "  </thead>\n",
       "  <tbody>\n",
       "    <tr>\n",
       "      <th>0</th>\n",
       "      <td>44.0</td>\n",
       "      <td>chicken</td>\n",
       "    </tr>\n",
       "    <tr>\n",
       "      <th>1</th>\n",
       "      <td>44.0</td>\n",
       "      <td>butter</td>\n",
       "    </tr>\n",
       "    <tr>\n",
       "      <th>2</th>\n",
       "      <td>44.0</td>\n",
       "      <td>flour</td>\n",
       "    </tr>\n",
       "    <tr>\n",
       "      <th>3</th>\n",
       "      <td>44.0</td>\n",
       "      <td>milk</td>\n",
       "    </tr>\n",
       "    <tr>\n",
       "      <th>4</th>\n",
       "      <td>44.0</td>\n",
       "      <td>celery</td>\n",
       "    </tr>\n",
       "    <tr>\n",
       "      <th>...</th>\n",
       "      <td>...</td>\n",
       "      <td>...</td>\n",
       "    </tr>\n",
       "    <tr>\n",
       "      <th>52416</th>\n",
       "      <td>541354.0</td>\n",
       "      <td>butter</td>\n",
       "    </tr>\n",
       "    <tr>\n",
       "      <th>52417</th>\n",
       "      <td>541354.0</td>\n",
       "      <td>flour</td>\n",
       "    </tr>\n",
       "    <tr>\n",
       "      <th>52418</th>\n",
       "      <td>541354.0</td>\n",
       "      <td>pepper</td>\n",
       "    </tr>\n",
       "    <tr>\n",
       "      <th>52419</th>\n",
       "      <td>541354.0</td>\n",
       "      <td>chicken</td>\n",
       "    </tr>\n",
       "    <tr>\n",
       "      <th>52420</th>\n",
       "      <td>541354.0</td>\n",
       "      <td>frozen corn</td>\n",
       "    </tr>\n",
       "  </tbody>\n",
       "</table>\n",
       "<p>52421 rows × 2 columns</p>\n",
       "</div>"
      ],
      "text/plain": [
       "       RecipeId new_ingredients\n",
       "0          44.0         chicken\n",
       "1          44.0          butter\n",
       "2          44.0           flour\n",
       "3          44.0            milk\n",
       "4          44.0          celery\n",
       "...         ...             ...\n",
       "52416  541354.0          butter\n",
       "52417  541354.0           flour\n",
       "52418  541354.0          pepper\n",
       "52419  541354.0         chicken\n",
       "52420  541354.0     frozen corn\n",
       "\n",
       "[52421 rows x 2 columns]"
      ]
     },
     "execution_count": 17,
     "metadata": {},
     "output_type": "execute_result"
    }
   ],
   "source": [
    "ingredients"
   ]
  },
  {
   "cell_type": "code",
   "execution_count": 7,
   "id": "da2d4a9c",
   "metadata": {},
   "outputs": [
    {
     "data": {
      "text/plain": [
       "RecipeId           0\n",
       "new_ingredients    0\n",
       "dtype: int64"
      ]
     },
     "execution_count": 7,
     "metadata": {},
     "output_type": "execute_result"
    }
   ],
   "source": [
    "ingredients.isnull().sum()"
   ]
  },
  {
   "cell_type": "code",
   "execution_count": 10,
   "id": "41d9e8c7",
   "metadata": {},
   "outputs": [
    {
     "data": {
      "text/plain": [
       "pandas.core.series.Series"
      ]
     },
     "execution_count": 10,
     "metadata": {},
     "output_type": "execute_result"
    }
   ],
   "source": [
    "type(ingredients['new_ingredients'])"
   ]
  },
  {
   "cell_type": "code",
   "execution_count": 18,
   "id": "48b2ff52",
   "metadata": {},
   "outputs": [],
   "source": [
    "ingredients.to_csv('/Users/brockberenato/Desktop/chicken_list.csv')\n"
   ]
  },
  {
   "cell_type": "code",
   "execution_count": null,
   "id": "c5e0a200",
   "metadata": {},
   "outputs": [],
   "source": []
  }
 ],
 "metadata": {
  "kernelspec": {
   "display_name": "Python 3 (ipykernel)",
   "language": "python",
   "name": "python3"
  },
  "language_info": {
   "codemirror_mode": {
    "name": "ipython",
    "version": 3
   },
   "file_extension": ".py",
   "mimetype": "text/x-python",
   "name": "python",
   "nbconvert_exporter": "python",
   "pygments_lexer": "ipython3",
   "version": "3.11.5"
  }
 },
 "nbformat": 4,
 "nbformat_minor": 5
}
